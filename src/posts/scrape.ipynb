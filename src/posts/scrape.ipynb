{
 "cells": [
  {
   "cell_type": "code",
   "execution_count": 1,
   "metadata": {},
   "outputs": [],
   "source": [
    "import json\n",
    "\n",
    "with open(\"/Users/nikhil/policyengine/policyengine-app/src/posts/blog.json\") as f:\n",
    "    blog = json.load(f)\n",
    "\n"
   ]
  },
  {
   "cell_type": "code",
   "execution_count": 37,
   "metadata": {},
   "outputs": [],
   "source": [
    "posts = blog[0][\"data\"][\"collection\"][\"homepagePostsConnection\"][\"posts\"]\n",
    "\n",
    "from datetime import datetime\n",
    "\n",
    "FILTERED_PROPERTIES = [\n",
    "    \"title\",\n",
    "    \"uniqueSlug\",\n",
    "    \"firstPublishedAt\",\n",
    "]\n",
    "\n",
    "def get_post(post):\n",
    "    post = {\n",
    "        \"title\": post[\"title\"],\n",
    "        \"name\": \"-\".join(post[\"uniqueSlug\"].split(\"-\")[:-1]),\n",
    "        \"date\": datetime.fromtimestamp(post[\"firstPublishedAt\"] / 1000).strftime(\"%Y-%m-%d\"),\n",
    "        \"authors\": [post[\"creator\"][\"name\"].lower().replace(\" \", \"-\")],\n",
    "        \"description\": post[\"extendedPreviewContent\"][\"subtitle\"],\n",
    "        \"imageUrl\": \"https://miro.medium.com/max/1400/\" + post[\"previewImage\"][\"id\"]\n",
    "    }\n",
    "    post[\"filename\"] = f\"{post['date']}-{post['name']}.md\"\n",
    "    post[\"image\"] = f\"{post['name']}.jpg\"\n",
    "    del post[\"name\"]\n",
    "    del post[\"imageUrl\"]\n",
    "    return post\n",
    "\n",
    "filtered_posts = [get_post(post) for post in posts]"
   ]
  },
  {
   "cell_type": "code",
   "execution_count": 31,
   "metadata": {},
   "outputs": [
    {
     "name": "stderr",
     "output_type": "stream",
     "text": [
      "100%|██████████| 10/10 [00:05<00:00,  2.00it/s]\n"
     ]
    }
   ],
   "source": [
    "IMAGE_FOLDER = \"/Users/nikhil/policyengine/policyengine-app/src/images/posts\"\n",
    "# Download the image for each post and put it in the folder under {name}.jpg\n",
    "from tqdm import tqdm\n",
    "for post in tqdm(filtered_posts):\n",
    "    import requests\n",
    "    import os\n",
    "    r = requests.get(post[\"imageUrl\"], allow_redirects=True)\n",
    "    open(os.path.join(IMAGE_FOLDER, post[\"name\"] + \".jpg\"), \"wb\").write(r.content)\n"
   ]
  },
  {
   "cell_type": "code",
   "execution_count": 39,
   "metadata": {},
   "outputs": [],
   "source": [
    "with open(\"output.txt\", \"w\") as f:\n",
    "    json.dump(filtered_posts, f, indent=4)"
   ]
  }
 ],
 "metadata": {
  "kernelspec": {
   "display_name": "base",
   "language": "python",
   "name": "python3"
  },
  "language_info": {
   "codemirror_mode": {
    "name": "ipython",
    "version": 3
   },
   "file_extension": ".py",
   "mimetype": "text/x-python",
   "name": "python",
   "nbconvert_exporter": "python",
   "pygments_lexer": "ipython3",
   "version": "3.9.12"
  },
  "orig_nbformat": 4,
  "vscode": {
   "interpreter": {
    "hash": "40d3a090f54c6569ab1632332b64b2c03c39dcf918b08424e98f38b5ae0af88f"
   }
  }
 },
 "nbformat": 4,
 "nbformat_minor": 2
}
